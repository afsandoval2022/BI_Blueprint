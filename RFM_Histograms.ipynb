{
 "cells": [
  {
   "cell_type": "code",
   "execution_count": null,
   "metadata": {},
   "outputs": [],
   "source": [
    "import sqlite3\n",
    "import pandas as pd\n",
    "import matplotlib.pyplot as plt\n",
    "import seaborn as sns"
   ]
  },
  {
   "cell_type": "code",
   "execution_count": null,
   "metadata": {},
   "outputs": [],
   "source": [
    "conn = sqlite3.connect('carmax_v3.db')\n",
    "df = pd.read_sql_query(\"SELECT * FROM RFM\", conn)\n",
    "conn.close()"
   ]
  },
  {
   "cell_type": "code",
   "execution_count": null,
   "metadata": {},
   "outputs": [],
   "source": [
    "df.head()"
   ]
  },
  {
   "cell_type": "code",
   "execution_count": null,
   "metadata": {},
   "outputs": [],
   "source": [
    "fig, axes = plt.subplots(1, 3, figsize=(15, 5))\n",
    "axes[0].hist(df['Recency'], bins=20, color='blue', alpha=0.7)\n",
    "axes[0].set_title('Recency Histogram')\n",
    "axes[0].set_xlabel('Days')\n",
    "axes[0].set_ylabel('Frequency')\n",
    "axes[1].hist(df['Frequency'], bins=20, color='green', alpha=0.7)\n",
    "axes[1].set_title('Frequency Histogram')\n",
    "axes[1].set_xlabel('Number of Days')\n",
    "axes[1].set_ylabel('Frequency')\n",
    "axes[2].hist(df['Monetary'], bins=20, color='red', alpha=0.7)\n",
    "axes[2].set_title('Monetary Histogram')\n",
    "axes[2].set_xlabel('Total Price')\n",
    "axes[2].set_ylabel('Frequency')\n",
    "plt.tight_layout()\n",
    "plt.show()"
   ]
  }
 ],
 "metadata": {
  "kernelspec": {
   "display_name": "Python 3",
   "language": "python",
   "name": "python3"
  },
  "language_info": {
   "name": "python",
   "version": "3.8.5"
  }
 },
 "nbformat": 4,
 "nbformat_minor": 4
}